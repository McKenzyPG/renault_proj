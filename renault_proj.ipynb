{
 "cells": [
  {
   "cell_type": "code",
   "execution_count": 31,
   "metadata": {
    "collapsed": true
   },
   "outputs": [],
   "source": [
    "# подгрузим модули\n",
    "import numpy as np\n",
    "import matplotlib.pyplot as plt\n",
    "import pandas as pd\n",
    "import os\n",
    "from os import listdir\n",
    "from openpyxl import load_workbook\n",
    "import xlrd"
   ]
  },
  {
   "cell_type": "code",
   "execution_count": 25,
   "metadata": {
    "collapsed": true
   },
   "outputs": [],
   "source": [
    "working_dir = 'data/'"
   ]
  },
  {
   "cell_type": "code",
   "execution_count": 33,
   "metadata": {},
   "outputs": [
    {
     "name": "stdout",
     "output_type": "stream",
     "text": [
      "Поток\n",
      "Поток\n",
      "January\n",
      "Jan2\n",
      "February\n",
      "Feb2\n",
      "March\n",
      "March2\n",
      "April \n",
      "April2\n",
      "2017\n",
      "february\n",
      "Mars\n",
      "April\n",
      "May\n",
      "June\n",
      "June 2\n",
      "July\n",
      "July 2\n",
      "August\n",
      "August 2\n",
      "Septembre\n",
      "Septembre 2\n",
      "October\n",
      "October 2\n",
      "November\n",
      "November 2\n",
      "December\n",
      "December 2\n",
      "Sheet1\n",
      "December\n",
      "January\n",
      "January 2\n",
      "February\n",
      "February 2\n",
      "March\n",
      "March 2\n",
      "January\n",
      "Sheet1\n",
      "January\n",
      "January 2\n",
      "February\n",
      "February 2\n",
      "March\n",
      "March 2\n",
      "April\n",
      "April 2\n"
     ]
    }
   ],
   "source": [
    "onlyfiles = [f for f in listdir(working_dir) if not os.path.isdir(f)]\n",
    "for file in onlyfiles:\n",
    "    wb = xlrd.open_workbook(working_dir+file)\n",
    "    for sheet in wb.sheet_names():\n",
    "        print (sheet)"
   ]
  },
  {
   "cell_type": "code",
   "execution_count": 29,
   "metadata": {},
   "outputs": [
    {
     "data": {
      "text/plain": [
       "['2017 Localization new.xlsx',\n",
       " '2018 D-trans RIR.xlsx',\n",
       " '2018 D-Trans-Caillot_Yusen-Renault Russia.xls',\n",
       " 'AsstrA-Cleon 2017.xls',\n",
       " 'AsstrA-Cleon 4518-Renault Russie_02.04.2018.xls',\n",
       " 'TELS - ILN RiR -2018.xls',\n",
       " 'TELS - PF YUSEN STRANC 2018.xls']"
      ]
     },
     "execution_count": 29,
     "metadata": {},
     "output_type": "execute_result"
    }
   ],
   "source": [
    "onlyfiles"
   ]
  },
  {
   "cell_type": "code",
   "execution_count": 22,
   "metadata": {},
   "outputs": [
    {
     "name": "stdout",
     "output_type": "stream",
     "text": [
      "('data/', [], ['2017 Localization new.xlsx', '2018 D-trans RIR.xlsx', '2018 D-Trans-Caillot_Yusen-Renault Russia.xls', 'AsstrA-Cleon 2017.xls', 'AsstrA-Cleon 4518-Renault Russie_02.04.2018.xls', 'TELS - ILN RiR -2018.xls', 'TELS - PF YUSEN STRANC 2018.xls'])\n"
     ]
    }
   ],
   "source": [
    "for i in os.walk(working_dir): print (i)"
   ]
  },
  {
   "cell_type": "code",
   "execution_count": null,
   "metadata": {
    "collapsed": true
   },
   "outputs": [],
   "source": [
    "dataset = pd.read_csv('data/Market_Basket_Optimisation.csv', header = None)"
   ]
  }
 ],
 "metadata": {
  "kernelspec": {
   "display_name": "Python 3",
   "language": "python",
   "name": "python3"
  },
  "language_info": {
   "codemirror_mode": {
    "name": "ipython",
    "version": 3
   },
   "file_extension": ".py",
   "mimetype": "text/x-python",
   "name": "python",
   "nbconvert_exporter": "python",
   "pygments_lexer": "ipython3",
   "version": "3.6.3"
  }
 },
 "nbformat": 4,
 "nbformat_minor": 2
}
